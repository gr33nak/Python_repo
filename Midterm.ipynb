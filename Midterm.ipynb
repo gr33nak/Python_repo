{
 "cells": [
  {
   "cell_type": "code",
   "execution_count": 33,
   "id": "08c68d77",
   "metadata": {},
   "outputs": [],
   "source": [
    "import pandas as pd\n",
    "import requests \n",
    "import json\n",
    "import matplotlib.pyplot as plt\n",
    "import numpy as np\n",
    "import zipfile\n",
    "import os\n",
    "import math"
   ]
  },
  {
   "cell_type": "code",
   "execution_count": 25,
   "id": "b8918b36",
   "metadata": {},
   "outputs": [],
   "source": [
    "url = \"https://ies-python-midterm.s3.eu-central-1.amazonaws.com/studentsSets/90940780.zip\"\n",
    "filename = \"90940780.zip\"\n",
    "\n",
    "r = requests.get(url)\n",
    "with open(filename, 'wb') as f:\n",
    "    f.write(r.content)\n",
    "with zipfile.ZipFile(filename, 'r') as zip_ref:\n",
    "    zip_ref.extractall(\"C:/Users/ourri/OneDrive/Dokumenty/Škola/Python/Python_repo\")"
   ]
  },
  {
   "cell_type": "code",
   "execution_count": 26,
   "id": "70153d68",
   "metadata": {},
   "outputs": [
    {
     "name": "stdout",
     "output_type": "stream",
     "text": [
      "            Date        High         Low        Open       Close     Volume  \\\n",
      "0     2017-11-13  196.210007  194.460007  195.399994  195.889999   283000.0   \n",
      "1     2017-11-14  196.449997  194.119995  194.940002  195.220001   187200.0   \n",
      "2     2017-11-15  196.429993  192.509995  194.449997  195.419998   206600.0   \n",
      "3     2017-11-16  196.699997  195.000000  195.919998  195.289993   180300.0   \n",
      "4     2017-11-17  196.270004  195.080002  195.080002  196.089996   317100.0   \n",
      "...          ...         ...         ...         ...         ...        ...   \n",
      "1254  2022-11-07   31.040001   30.299999   30.490000   30.959999  2572300.0   \n",
      "1255  2022-11-08   31.180000   30.700001   30.990000   31.020000  2908300.0   \n",
      "1256  2022-11-09   31.080000   29.969999   30.870001   30.059999  2877200.0   \n",
      "1257  2022-11-10   32.990002   31.250000   31.330000   32.860001  4965700.0   \n",
      "1258  2022-11-11   33.400002   32.849998   32.939999   33.090000  2868800.0   \n",
      "\n",
      "       Adj Close  Company  \n",
      "0     187.135559  FDS.csv  \n",
      "1     186.495514  FDS.csv  \n",
      "2     186.686539  FDS.csv  \n",
      "3     186.562393  FDS.csv  \n",
      "4     187.326614  FDS.csv  \n",
      "...          ...      ...  \n",
      "1254   30.959999   WY.csv  \n",
      "1255   31.020000   WY.csv  \n",
      "1256   30.059999   WY.csv  \n",
      "1257   32.860001   WY.csv  \n",
      "1258   33.090000   WY.csv  \n",
      "\n",
      "[5035 rows x 8 columns]\n"
     ]
    }
   ],
   "source": [
    "def read_csv(filename):\n",
    "    df = pd.read_csv(filename)\n",
    "    df['Company'] = os.path.basename(filename)\n",
    "    return df\n",
    "\n",
    "# List of csv filenames\n",
    "firms = ['C:/Users/ourri/OneDrive/Dokumenty/Škola/Python/Python_repo/data/FDS.csv',\n",
    "         'C:/Users/ourri/OneDrive/Dokumenty/Škola/Python/Python_repo/data/KEYS.csv',\n",
    "         'C:/Users/ourri/OneDrive/Dokumenty/Škola/Python/Python_repo/data/WM.csv',\n",
    "         'C:/Users/ourri/OneDrive/Dokumenty/Škola/Python/Python_repo/data/WY.csv']\n",
    "\n",
    "# List of dataframes\n",
    "dfs = []\n",
    "\n",
    "# Loop through firms and read data into dataframes\n",
    "for firm in firms:\n",
    "    df = read_csv(firm)\n",
    "    dfs.append(df)\n",
    "\n",
    "# Concatenate dataframes into a single dataframe\n",
    "combined_df = pd.concat(dfs)\n",
    "\n",
    "# Print the combined dataframe\n",
    "print(combined_df)"
   ]
  },
  {
   "cell_type": "code",
   "execution_count": 27,
   "id": "ffeef7f0",
   "metadata": {},
   "outputs": [
    {
     "name": "stdout",
     "output_type": "stream",
     "text": [
      "The following companies have no difference between columns:\n",
      "FDS.csv\n",
      "KEYS.csv\n",
      "WM.csv\n",
      "WY.csv\n"
     ]
    }
   ],
   "source": [
    "# Filter the dataframe to include only rows where columns have the same value\n",
    "diff_df = combined_df[combined_df['Close'] == combined_df['Adj Close']]\n",
    "\n",
    "# Get a list of the unique companies in the filtered dataframe\n",
    "diff_companies = diff_df['Company'].unique()\n",
    "\n",
    "# Print the list of companies with no difference between columns\n",
    "if len(diff_companies) > 0:\n",
    "    print(\"The following companies have no difference between columns:\")\n",
    "    for company in diff_companies:\n",
    "        print(company)\n",
    "else:\n",
    "    print(\"No companies have no difference between columns.\")"
   ]
  },
  {
   "cell_type": "code",
   "execution_count": 31,
   "id": "de979068",
   "metadata": {},
   "outputs": [
    {
     "name": "stdout",
     "output_type": "stream",
     "text": [
      "Max prices:\n",
      "Company\n",
      "FDS.csv     487.829559\n",
      "KEYS.csv    207.929993\n",
      "WM.csv      175.289993\n",
      "WY.csv       42.220001\n",
      "Name: Adj Close, dtype: float64\n",
      "Min prices:\n",
      "Company\n",
      "FDS.csv     178.721649\n",
      "KEYS.csv     41.540001\n",
      "WM.csv       73.424927\n",
      "WY.csv       12.451620\n",
      "Name: Adj Close, dtype: float64\n"
     ]
    }
   ],
   "source": [
    "max_prices = combined_df.groupby('Company')['Adj Close'].max()\n",
    "min_prices = combined_df.groupby('Company')['Adj Close'].min()\n",
    "\n",
    "# Print the results\n",
    "print(\"Max prices:\")\n",
    "print(max_prices)\n",
    "print(\"Min prices:\")\n",
    "print(min_prices)"
   ]
  },
  {
   "cell_type": "code",
   "execution_count": 34,
   "id": "d9c22708",
   "metadata": {},
   "outputs": [
    {
     "name": "stdout",
     "output_type": "stream",
     "text": [
      "Logarithmic return statistics:\n",
      "               min       max      mean    median\n",
      "Company                                         \n",
      "FDS.csv  -0.117682  0.140840  0.000645  0.001863\n",
      "KEYS.csv -2.251767  0.118456 -0.000711  0.001555\n",
      "WM.csv   -0.819975  0.086636 -0.000068  0.001000\n",
      "WY.csv   -1.673449  0.225665 -0.001243  0.001261\n"
     ]
    }
   ],
   "source": [
    "combined_df['Log_Returns'] = combined_df['Adj Close'].pct_change().apply(lambda x: math.log(1+x))\n",
    "\n",
    "# Group the dataframe by \"Company\" and calculate the min, max, mean, and median of the logarithmic returns for each group\n",
    "return_stats = combined_df.groupby('Company')['Log_Returns'].agg(['min', 'max', 'mean', 'median'])\n",
    "\n",
    "# Print the results\n",
    "print(\"Logarithmic return statistics:\")\n",
    "print(return_stats)"
   ]
  },
  {
   "cell_type": "code",
   "execution_count": 41,
   "id": "7b3574de",
   "metadata": {},
   "outputs": [
    {
     "name": "stdout",
     "output_type": "stream",
     "text": [
      "Dates of highest gain:\n",
      "      Company        Date\n",
      "657   FDS.csv  2020-06-25\n",
      "657  KEYS.csv  2020-06-25\n",
      "657    WM.csv  2020-06-25\n",
      "657    WY.csv  2020-06-25\n",
      "445   FDS.csv  2019-08-22\n",
      "445  KEYS.csv  2019-08-22\n",
      "445    WM.csv  2019-08-22\n",
      "445    WY.csv  2019-08-22\n",
      "587   FDS.csv  2020-03-17\n",
      "587  KEYS.csv  2020-03-17\n",
      "587    WM.csv  2020-03-17\n",
      "587    WY.csv  2020-03-17\n",
      "592   FDS.csv  2020-03-24\n",
      "592  KEYS.csv  2020-03-24\n",
      "592    WM.csv  2020-03-24\n",
      "592    WY.csv  2020-03-24\n",
      "Dates of highest loss:\n",
      "      Company        Date\n",
      "588   FDS.csv  2020-03-18\n",
      "588  KEYS.csv  2020-03-18\n",
      "588    WM.csv  2020-03-18\n",
      "588    WY.csv  2020-03-18\n",
      "0     FDS.csv  2017-11-13\n",
      "0    KEYS.csv  2017-11-13\n",
      "0      WM.csv  2017-11-13\n",
      "0      WY.csv  2017-11-13\n",
      "0     FDS.csv  2017-11-13\n",
      "0    KEYS.csv  2017-11-13\n",
      "0      WM.csv  2017-11-13\n",
      "0      WY.csv  2017-11-13\n",
      "0     FDS.csv  2017-11-13\n",
      "0    KEYS.csv  2017-11-13\n",
      "0      WM.csv  2017-11-13\n",
      "0      WY.csv  2017-11-13\n"
     ]
    }
   ],
   "source": [
    "max_prices = combined_df.loc[combined_df.groupby('Company')['Log_Returns'].idxmax()]\n",
    "min_prices = combined_df.loc[combined_df.groupby('Company')['Log_Returns'].idxmin()]\n",
    "\n",
    "# Print the results\n",
    "print(\"Dates of highest gain:\")\n",
    "print(max_prices[['Company', 'Date']])\n",
    "print(\"Dates of highest loss:\")\n",
    "print(min_prices[['Company', 'Date']])"
   ]
  },
  {
   "cell_type": "code",
   "execution_count": 44,
   "id": "44e8fded",
   "metadata": {},
   "outputs": [
    {
     "data": {
      "image/png": "[encoded data removed]",
      "text/plain": [
       "<Figure size 640x480 with 1 Axes>"
      ]
     },
     "metadata": {},
     "output_type": "display_data"
    }
   ],
   "source": [
    "df_pivoted = combined_df.pivot(columns='Company', values='Log_Returns')\n",
    "\n",
    "# Plot the log-returns for each company\n",
    "plt.plot(df_pivoted)\n",
    "plt.legend(df_pivoted.columns)\n",
    "plt.xlabel('Date')\n",
    "plt.ylabel('Log-Returns')\n",
    "plt.show()"
   ]
  }
 ],
 "metadata": {
  "kernelspec": {
   "display_name": "Python 3 (ipykernel)",
   "language": "python",
   "name": "python3"
  },
  "language_info": {
   "codemirror_mode": {
    "name": "ipython",
    "version": 3
   },
   "file_extension": ".py",
   "mimetype": "text/x-python",
   "name": "python",
   "nbconvert_exporter": "python",
   "pygments_lexer": "ipython3",
   "version": "3.9.13"
  }
 },
 "nbformat": 4,
 "nbformat_minor": 5
}
